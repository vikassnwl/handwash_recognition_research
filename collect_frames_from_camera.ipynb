{
 "cells": [
  {
   "cell_type": "code",
   "execution_count": 36,
   "metadata": {},
   "outputs": [],
   "source": [
    "import cv2\n",
    "import numpy as np\n",
    "import os\n",
    "import time\n",
    "import random\n",
    "import shutil"
   ]
  },
  {
   "cell_type": "markdown",
   "metadata": {},
   "source": [
    "### Creating directories to store camera frames"
   ]
  },
  {
   "cell_type": "code",
   "execution_count": 7,
   "metadata": {},
   "outputs": [],
   "source": [
    "for i in range(7):\n",
    "    os.makedirs(f\"dataset/camera/{i}\", exist_ok=True)"
   ]
  },
  {
   "cell_type": "markdown",
   "metadata": {},
   "source": [
    "### Capturing and storing frames to camera directory"
   ]
  },
  {
   "cell_type": "code",
   "execution_count": 23,
   "metadata": {},
   "outputs": [],
   "source": [
    "cap = cv2.VideoCapture(0)\n",
    "frame_number = 0\n",
    "tik = time.time()\n",
    "while True:\n",
    "    ret, frame = cap.read()\n",
    "    if not ret:\n",
    "        break\n",
    "\n",
    "    if frame_number%5 == 0:\n",
    "        # cv2.imwrite(f\"dataset/camera/0/{frame_number}.jpg\", frame)\n",
    "        pass\n",
    "\n",
    "    cv2.imwrite(f\"dataset/camera/1/{frame_number}.jpg\", frame)\n",
    "    cv2.imshow(\"Live Prediction\", frame)\n",
    "\n",
    "    if cv2.waitKey(1) & 0xFF == ord(\"q\"):\n",
    "        break\n",
    "\n",
    "    frame_number += 1\n",
    "\n",
    "    tok = time.time()\n",
    "    if tok-tik >= 120:\n",
    "        break\n",
    "\n",
    "cap.release()\n",
    "cv2.destroyAllWindows()"
   ]
  },
  {
   "cell_type": "code",
   "execution_count": null,
   "metadata": {},
   "outputs": [],
   "source": []
  },
  {
   "cell_type": "code",
   "execution_count": 48,
   "metadata": {},
   "outputs": [
    {
     "data": {
      "text/plain": [
       "3399"
      ]
     },
     "execution_count": 48,
     "metadata": {},
     "output_type": "execute_result"
    }
   ],
   "source": [
    "camera_dir = \"dataset/camera\"\n",
    "len(os.listdir(f\"{camera_dir}/1\"))"
   ]
  },
  {
   "cell_type": "code",
   "execution_count": 43,
   "metadata": {},
   "outputs": [
    {
     "name": "stdout",
     "output_type": "stream",
     "text": [
      "60 file removed successfully!\n"
     ]
    }
   ],
   "source": [
    "file_remove_cnt = 0\n",
    "# for filename in sorted(os.listdir(f\"{camera_dir}/1\"), key=lambda x: int(x.split(\".\")[0]))[:70]:\n",
    "for i in range(32, 92):\n",
    "    os.remove(f\"{camera_dir}/0/{i}.jpg\")\n",
    "    file_remove_cnt += 1\n",
    "print(f\"{file_remove_cnt} file removed successfully!\")"
   ]
  },
  {
   "cell_type": "code",
   "execution_count": null,
   "metadata": {},
   "outputs": [],
   "source": []
  },
  {
   "cell_type": "markdown",
   "metadata": {},
   "source": [
    "### Train test split"
   ]
  },
  {
   "cell_type": "code",
   "execution_count": 44,
   "metadata": {},
   "outputs": [],
   "source": [
    "# Creating train and test folders in camera directory for data split\n",
    "dirs = [\"train\", \"test\"]\n",
    "for dirname in dirs:\n",
    "    for i in range(7):\n",
    "        os.makedirs(f\"{camera_dir}/{dirname}/{i}\", exist_ok=True)"
   ]
  },
  {
   "cell_type": "code",
   "execution_count": 45,
   "metadata": {},
   "outputs": [],
   "source": [
    "# Splitting dataset into train and test sets (70:30)\n",
    "for i in range(7):\n",
    "    # print(len(os.listdir(f\"{main_dataset_dir}/{folder}\")))\n",
    "    for file in os.listdir(f\"{camera_dir}/{i}\"):\n",
    "        src = f\"{camera_dir}/{i}/{file}\"\n",
    "        if random.randint(1, 11) <= 3:\n",
    "            dst = f\"{camera_dir}/test/{i}/{file}\"\n",
    "        else:\n",
    "            dst = f\"{camera_dir}/train/{i}/{file}\"\n",
    "        shutil.copy(src, dst)"
   ]
  },
  {
   "cell_type": "code",
   "execution_count": 49,
   "metadata": {},
   "outputs": [],
   "source": [
    "# Creating directory to save train and test splits for camera frames\n",
    "os.makedirs(\"dataset/camera_train_test\", exist_ok=True)"
   ]
  },
  {
   "cell_type": "code",
   "execution_count": 50,
   "metadata": {},
   "outputs": [
    {
     "data": {
      "text/plain": [
       "'dataset/camera_train_test/test'"
      ]
     },
     "execution_count": 50,
     "metadata": {},
     "output_type": "execute_result"
    }
   ],
   "source": [
    "# Moving train and test directories from camera to camera_train_test\n",
    "shutil.move(f\"{camera_dir}/train\", \"dataset/camera_train_test\")\n",
    "shutil.move(f\"{camera_dir}/test\", \"dataset/camera_train_test\")"
   ]
  },
  {
   "cell_type": "code",
   "execution_count": 51,
   "metadata": {},
   "outputs": [
    {
     "name": "stdout",
     "output_type": "stream",
     "text": [
      "[dataset/camera_train_test/train/4] removed successfully!\n",
      "[dataset/camera_train_test/train/3] removed successfully!\n",
      "[dataset/camera_train_test/train/5] removed successfully!\n",
      "[dataset/camera_train_test/train/6] removed successfully!\n",
      "[dataset/camera_train_test/train/2] removed successfully!\n",
      "[dataset/camera_train_test/test/4] removed successfully!\n",
      "[dataset/camera_train_test/test/3] removed successfully!\n",
      "[dataset/camera_train_test/test/5] removed successfully!\n",
      "[dataset/camera_train_test/test/6] removed successfully!\n",
      "[dataset/camera_train_test/test/2] removed successfully!\n"
     ]
    }
   ],
   "source": [
    "# Removing empty directories from train and test folders in camera_train_test\n",
    "camera_train_test_dir = \"dataset/camera_train_test\"\n",
    "for dirname in [\"train\", \"test\"]:\n",
    "    for subdir in os.listdir(f\"{camera_train_test_dir}/{dirname}\"):\n",
    "        if not os.listdir(f\"{camera_train_test_dir}/{dirname}/{subdir}\"):\n",
    "            os.rmdir(f\"{camera_train_test_dir}/{dirname}/{subdir}\")\n",
    "            print(f\"[{camera_train_test_dir}/{dirname}/{subdir}] removed successfully!\")"
   ]
  },
  {
   "cell_type": "code",
   "execution_count": 52,
   "metadata": {},
   "outputs": [
    {
     "data": {
      "text/plain": [
       "'/home/vikas/Documents/Data Science/handwash_recognition_research/dataset/camera_train_test.tar'"
      ]
     },
     "execution_count": 52,
     "metadata": {},
     "output_type": "execute_result"
    }
   ],
   "source": [
    "# Making archive of camera_train_test folder to upload on kaggle for model training\n",
    "shutil.make_archive(camera_train_test_dir, \"tar\", camera_train_test_dir)"
   ]
  },
  {
   "cell_type": "code",
   "execution_count": null,
   "metadata": {},
   "outputs": [],
   "source": []
  }
 ],
 "metadata": {
  "kernelspec": {
   "display_name": "env",
   "language": "python",
   "name": "python3"
  },
  "language_info": {
   "codemirror_mode": {
    "name": "ipython",
    "version": 3
   },
   "file_extension": ".py",
   "mimetype": "text/x-python",
   "name": "python",
   "nbconvert_exporter": "python",
   "pygments_lexer": "ipython3",
   "version": "3.12.5"
  }
 },
 "nbformat": 4,
 "nbformat_minor": 2
}
