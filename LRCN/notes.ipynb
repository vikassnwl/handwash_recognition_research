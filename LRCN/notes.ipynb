{
 "cells": [
  {
   "cell_type": "markdown",
   "metadata": {},
   "source": [
    "**Load and Visualize the data**"
   ]
  },
  {
   "cell_type": "markdown",
   "metadata": {},
   "source": [
    "**Preprocess the data**\n",
    "- frames_extraction\n",
    "    - extract evenly distributed `SEQUENCE_LENGTH` frames from each video\n",
    "    - store those frames in an array\n",
    "    - shape of array should look like this: (10, 20, 64, 64, 3)\n",
    "    - here 10 is the total number of videos in the dataset\n",
    "    - 20 is the length of sequence i.e., number of frames to extract from each video\n",
    "    - 64 x 64 is the size of each frame after resizing them\n",
    "    - 3 is for RGB channels\n",
    "- label_encoding\n",
    "    - one hot encode each label\n",
    "    - shape of labels should be (10, 4)\n",
    "    - here 10 is the total number of videos in the dataset\n",
    "    - 4 is the number of classes"
   ]
  },
  {
   "cell_type": "markdown",
   "metadata": {},
   "source": [
    "**Split the data**\n",
    "- split the data using train_test_split"
   ]
  },
  {
   "cell_type": "markdown",
   "metadata": {},
   "source": [
    "**Construct the model architecture**"
   ]
  },
  {
   "cell_type": "markdown",
   "metadata": {},
   "source": [
    "**Train the model**"
   ]
  },
  {
   "cell_type": "markdown",
   "metadata": {},
   "source": [
    "**Inference**\n",
    "- Predict on video\n",
    "    - use 20 frame window (20 is the sequence length)\n",
    "    - keep the window sliding over the video by 1 stride at a time\n",
    "    - for example if there are 21 frames in a video then there will be 2 strides in total\n",
    "    - a prediction will be made after each stride\n",
    "- Predict single action\n",
    "    - Extract 20 uniformly sampled (evenly spaced) frames from the input video (20 is the sequence length)\n",
    "    - Pass these 20 frames to the model for prediction on the video"
   ]
  },
  {
   "cell_type": "code",
   "execution_count": null,
   "metadata": {},
   "outputs": [],
   "source": []
  },
  {
   "cell_type": "code",
   "execution_count": null,
   "metadata": {},
   "outputs": [],
   "source": []
  }
 ],
 "metadata": {
  "kernelspec": {
   "display_name": "env",
   "language": "python",
   "name": "python3"
  },
  "language_info": {
   "codemirror_mode": {
    "name": "ipython",
    "version": 3
   },
   "file_extension": ".py",
   "mimetype": "text/x-python",
   "name": "python",
   "nbconvert_exporter": "python",
   "pygments_lexer": "ipython3",
   "version": "3.12.5"
  }
 },
 "nbformat": 4,
 "nbformat_minor": 2
}
