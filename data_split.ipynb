{
 "cells": [
  {
   "cell_type": "code",
   "execution_count": 27,
   "metadata": {},
   "outputs": [],
   "source": [
    "import os\n",
    "import random\n",
    "import shutil\n",
    "import cv2"
   ]
  },
  {
   "cell_type": "code",
   "execution_count": 10,
   "metadata": {},
   "outputs": [
    {
     "name": "stdout",
     "output_type": "stream",
     "text": [
      "dataset/kaggle-dataset-6classes/4\n",
      "50\n",
      "dataset/kaggle-dataset-6classes/1\n",
      "25\n",
      "dataset/kaggle-dataset-6classes/0\n",
      "50\n",
      "dataset/kaggle-dataset-6classes/3\n",
      "25\n",
      "dataset/kaggle-dataset-6classes/5\n",
      "50\n",
      "dataset/kaggle-dataset-6classes/6\n",
      "50\n",
      "dataset/kaggle-dataset-6classes/2\n",
      "50\n"
     ]
    }
   ],
   "source": [
    "for root, dirs, files in os.walk(\"dataset/kaggle-dataset-6classes\"):\n",
    "    if not len(dirs):\n",
    "        print(root)\n",
    "        print(len(files))"
   ]
  },
  {
   "cell_type": "markdown",
   "metadata": {},
   "source": [
    "### Creating directories to store train and test sets"
   ]
  },
  {
   "cell_type": "code",
   "execution_count": 11,
   "metadata": {},
   "outputs": [],
   "source": [
    "dir_names = [\"train\", \"test\"]\n",
    "for dir_name in dir_names:\n",
    "    os.makedirs(f\"dataset/{dir_name}\")\n",
    "    for i in range(7):\n",
    "        os.makedirs(f\"dataset/{dir_name}/{i}\")"
   ]
  },
  {
   "cell_type": "markdown",
   "metadata": {},
   "source": [
    "### Copying data randomly from main dataset to train and test folders"
   ]
  },
  {
   "cell_type": "code",
   "execution_count": 23,
   "metadata": {},
   "outputs": [],
   "source": [
    "main_dataset_dir = \"dataset/kaggle-dataset-6classes\"\n",
    "for folder in os.listdir(main_dataset_dir):\n",
    "    # print(len(os.listdir(f\"{main_dataset_dir}/{folder}\")))\n",
    "    for file in os.listdir(f\"{main_dataset_dir}/{folder}\"):\n",
    "        src = f\"{main_dataset_dir}/{folder}/{file}\"\n",
    "        if random.randint(1, 11) <= 3:\n",
    "            dst = f\"dataset/test/{folder}/{file}\"\n",
    "        else:\n",
    "            dst = f\"dataset/train/{folder}/{file}\"\n",
    "        shutil.copy(src, dst)"
   ]
  },
  {
   "cell_type": "code",
   "execution_count": 24,
   "metadata": {},
   "outputs": [
    {
     "name": "stdout",
     "output_type": "stream",
     "text": [
      "dataset/train/4\n",
      "38\n",
      "dataset/train/1\n",
      "19\n",
      "dataset/train/0\n",
      "34\n",
      "dataset/train/3\n",
      "20\n",
      "dataset/train/5\n",
      "33\n",
      "dataset/train/6\n",
      "36\n",
      "dataset/train/2\n",
      "38\n"
     ]
    }
   ],
   "source": [
    "for root, dirs, files in os.walk(\"dataset/train\"):\n",
    "    if not len(dirs):\n",
    "        print(root)\n",
    "        print(len(files))"
   ]
  },
  {
   "cell_type": "code",
   "execution_count": 25,
   "metadata": {},
   "outputs": [
    {
     "name": "stdout",
     "output_type": "stream",
     "text": [
      "dataset/test/4\n",
      "12\n",
      "dataset/test/1\n",
      "6\n",
      "dataset/test/0\n",
      "16\n",
      "dataset/test/3\n",
      "5\n",
      "dataset/test/5\n",
      "17\n",
      "dataset/test/6\n",
      "14\n",
      "dataset/test/2\n",
      "12\n"
     ]
    }
   ],
   "source": [
    "for root, dirs, files in os.walk(\"dataset/test\"):\n",
    "    if not len(dirs):\n",
    "        print(root)\n",
    "        print(len(files))"
   ]
  },
  {
   "cell_type": "code",
   "execution_count": 26,
   "metadata": {},
   "outputs": [
    {
     "data": {
      "text/plain": [
       "'dataset/videos/test'"
      ]
     },
     "execution_count": 26,
     "metadata": {},
     "output_type": "execute_result"
    }
   ],
   "source": [
    "# Moving data to videos\n",
    "shutil.move(\"dataset/train\", \"dataset/videos\")\n",
    "shutil.move(\"dataset/test\", \"dataset/videos\")"
   ]
  },
  {
   "cell_type": "markdown",
   "metadata": {},
   "source": [
    "### Extracting frames from videos"
   ]
  },
  {
   "cell_type": "code",
   "execution_count": 78,
   "metadata": {},
   "outputs": [],
   "source": [
    "def extract_frames(input_path, output_path):\n",
    "    vidcap = cv2.VideoCapture(input_path)\n",
    "    is_success, image = vidcap.read()\n",
    "    frame_number = 0\n",
    "\n",
    "    while is_success:\n",
    "        if frame_number%5 == 0:\n",
    "            filename, ext = os.path.splitext(os.path.basename(input_path))\n",
    "            cv2.imwrite(f\"{output_path}/{filename}_frame_{frame_number}.jpg\", image)\n",
    "        is_success, image = vidcap.read()\n",
    "        frame_number += 1"
   ]
  },
  {
   "cell_type": "code",
   "execution_count": 79,
   "metadata": {},
   "outputs": [],
   "source": [
    "dir_names = [\"train\", \"test\"]\n",
    "for dir_name in dir_names:\n",
    "    videos_dir = f\"dataset/videos/{dir_name}\"\n",
    "    frames_dir = f\"dataset/frames/{dir_name}\"\n",
    "    for folder in os.listdir(videos_dir):\n",
    "        for file in os.listdir(f\"{videos_dir}/{folder}\"):\n",
    "            input_path = f\"{videos_dir}/{folder}/{file}\"\n",
    "            output_path = f\"{frames_dir}/{folder}\"\n",
    "            extract_frames(input_path, output_path)"
   ]
  },
  {
   "cell_type": "code",
   "execution_count": null,
   "metadata": {},
   "outputs": [],
   "source": []
  }
 ],
 "metadata": {
  "kernelspec": {
   "display_name": "Python 3",
   "language": "python",
   "name": "python3"
  },
  "language_info": {
   "codemirror_mode": {
    "name": "ipython",
    "version": 3
   },
   "file_extension": ".py",
   "mimetype": "text/x-python",
   "name": "python",
   "nbconvert_exporter": "python",
   "pygments_lexer": "ipython3",
   "version": "3.12.5"
  }
 },
 "nbformat": 4,
 "nbformat_minor": 2
}
